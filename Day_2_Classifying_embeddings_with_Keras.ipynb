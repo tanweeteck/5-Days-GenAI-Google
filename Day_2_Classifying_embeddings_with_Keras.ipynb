{
  "metadata": {
    "kernelspec": {
      "name": "python3",
      "display_name": "Python 3",
      "language": "python"
    },
    "language_info": {
      "name": "python",
      "version": "3.10.14",
      "mimetype": "text/x-python",
      "codemirror_mode": {
        "name": "ipython",
        "version": 3
      },
      "pygments_lexer": "ipython3",
      "nbconvert_exporter": "python",
      "file_extension": ".py"
    },
    "colab": {
      "name": "Day 2 - Classifying embeddings with Keras",
      "provenance": [],
      "include_colab_link": true
    },
    "google": {
      "image_path": "/examples/train_text_classifier_embeddings_files/output_3ae76701e178_0.png",
      "keywords": [
        "examples",
        "googleai",
        "samplecode",
        "python",
        "embed"
      ]
    },
    "kaggle": {
      "accelerator": "none",
      "dataSources": [],
      "dockerImageVersionId": 30786,
      "isInternetEnabled": true,
      "language": "python",
      "sourceType": "notebook",
      "isGpuEnabled": false
    },
    "widgets": {
      "application/vnd.jupyter.widget-state+json": {
        "3128bd53e7da44bea6c399c2cd2c10c3": {
          "model_module": "@jupyter-widgets/output",
          "model_name": "OutputModel",
          "model_module_version": "1.0.0",
          "state": {
            "_dom_classes": [],
            "_model_module": "@jupyter-widgets/output",
            "_model_module_version": "1.0.0",
            "_model_name": "OutputModel",
            "_view_count": null,
            "_view_module": "@jupyter-widgets/output",
            "_view_module_version": "1.0.0",
            "_view_name": "OutputView",
            "layout": "IPY_MODEL_5728e9dcf98749dc8fb5b29d9a1d36dc",
            "msg_id": "",
            "outputs": [
              {
                "output_type": "display_data",
                "data": {
                  "text/plain": "\u001b[35m 100%\u001b[0m \u001b[38;2;114;156;31m━━━━━━━━━━━━━━━━━━━━━━━━━━━━━━━━━━━━━━━━━━━━━━━━━━━━━━━━━━━━━━━━━━━━━\u001b[0m \u001b[32m400/400 \u001b[0m [ \u001b[33m0:07:33\u001b[0m < \u001b[36m0:00:00\u001b[0m , \u001b[31m3 it/s\u001b[0m ]\n",
                  "text/html": "<pre style=\"white-space:pre;overflow-x:auto;line-height:normal;font-family:Menlo,'DejaVu Sans Mono',consolas,'Courier New',monospace\"><span style=\"color: #800080; text-decoration-color: #800080\"> 100%</span> <span style=\"color: #729c1f; text-decoration-color: #729c1f\">━━━━━━━━━━━━━━━━━━━━━━━━━━━━━━━━━━━━━━━━━━━━━━━━━━━━━━━━━━━━━━━━━━━━━</span> <span style=\"color: #008000; text-decoration-color: #008000\">400/400 </span> [ <span style=\"color: #808000; text-decoration-color: #808000\">0:07:33</span> &lt; <span style=\"color: #008080; text-decoration-color: #008080\">0:00:00</span> , <span style=\"color: #800000; text-decoration-color: #800000\">3 it/s</span> ]\n</pre>\n"
                },
                "metadata": {}
              }
            ]
          }
        },
        "5728e9dcf98749dc8fb5b29d9a1d36dc": {
          "model_module": "@jupyter-widgets/base",
          "model_name": "LayoutModel",
          "model_module_version": "1.2.0",
          "state": {
            "_model_module": "@jupyter-widgets/base",
            "_model_module_version": "1.2.0",
            "_model_name": "LayoutModel",
            "_view_count": null,
            "_view_module": "@jupyter-widgets/base",
            "_view_module_version": "1.2.0",
            "_view_name": "LayoutView",
            "align_content": null,
            "align_items": null,
            "align_self": null,
            "border": null,
            "bottom": null,
            "display": null,
            "flex": null,
            "flex_flow": null,
            "grid_area": null,
            "grid_auto_columns": null,
            "grid_auto_flow": null,
            "grid_auto_rows": null,
            "grid_column": null,
            "grid_gap": null,
            "grid_row": null,
            "grid_template_areas": null,
            "grid_template_columns": null,
            "grid_template_rows": null,
            "height": null,
            "justify_content": null,
            "justify_items": null,
            "left": null,
            "margin": null,
            "max_height": null,
            "max_width": null,
            "min_height": null,
            "min_width": null,
            "object_fit": null,
            "object_position": null,
            "order": null,
            "overflow": null,
            "overflow_x": null,
            "overflow_y": null,
            "padding": null,
            "right": null,
            "top": null,
            "visibility": null,
            "width": null
          }
        },
        "10dd56cbaafe440da6e60b7948fa6a2a": {
          "model_module": "@jupyter-widgets/output",
          "model_name": "OutputModel",
          "model_module_version": "1.0.0",
          "state": {
            "_dom_classes": [],
            "_model_module": "@jupyter-widgets/output",
            "_model_module_version": "1.0.0",
            "_model_name": "OutputModel",
            "_view_count": null,
            "_view_module": "@jupyter-widgets/output",
            "_view_module_version": "1.0.0",
            "_view_name": "OutputView",
            "layout": "IPY_MODEL_2d124f454e15438a83a8b97a46d53523",
            "msg_id": "",
            "outputs": [
              {
                "output_type": "display_data",
                "data": {
                  "text/plain": "\u001b[35m 100%\u001b[0m \u001b[38;2;114;156;31m━━━━━━━━━━━━━━━━━━━━━━━━━━━━━━━━━━━━━━━━━━━━━━━━━━━━━━━━━━━━━━━━━━━━━\u001b[0m \u001b[32m100/100 \u001b[0m [ \u001b[33m0:00:13\u001b[0m < \u001b[36m0:00:00\u001b[0m , \u001b[31m7 it/s\u001b[0m ]\n",
                  "text/html": "<pre style=\"white-space:pre;overflow-x:auto;line-height:normal;font-family:Menlo,'DejaVu Sans Mono',consolas,'Courier New',monospace\"><span style=\"color: #800080; text-decoration-color: #800080\"> 100%</span> <span style=\"color: #729c1f; text-decoration-color: #729c1f\">━━━━━━━━━━━━━━━━━━━━━━━━━━━━━━━━━━━━━━━━━━━━━━━━━━━━━━━━━━━━━━━━━━━━━</span> <span style=\"color: #008000; text-decoration-color: #008000\">100/100 </span> [ <span style=\"color: #808000; text-decoration-color: #808000\">0:00:13</span> &lt; <span style=\"color: #008080; text-decoration-color: #008080\">0:00:00</span> , <span style=\"color: #800000; text-decoration-color: #800000\">7 it/s</span> ]\n</pre>\n"
                },
                "metadata": {}
              }
            ]
          }
        },
        "2d124f454e15438a83a8b97a46d53523": {
          "model_module": "@jupyter-widgets/base",
          "model_name": "LayoutModel",
          "model_module_version": "1.2.0",
          "state": {
            "_model_module": "@jupyter-widgets/base",
            "_model_module_version": "1.2.0",
            "_model_name": "LayoutModel",
            "_view_count": null,
            "_view_module": "@jupyter-widgets/base",
            "_view_module_version": "1.2.0",
            "_view_name": "LayoutView",
            "align_content": null,
            "align_items": null,
            "align_self": null,
            "border": null,
            "bottom": null,
            "display": null,
            "flex": null,
            "flex_flow": null,
            "grid_area": null,
            "grid_auto_columns": null,
            "grid_auto_flow": null,
            "grid_auto_rows": null,
            "grid_column": null,
            "grid_gap": null,
            "grid_row": null,
            "grid_template_areas": null,
            "grid_template_columns": null,
            "grid_template_rows": null,
            "height": null,
            "justify_content": null,
            "justify_items": null,
            "left": null,
            "margin": null,
            "max_height": null,
            "max_width": null,
            "min_height": null,
            "min_width": null,
            "object_fit": null,
            "object_position": null,
            "order": null,
            "overflow": null,
            "overflow_x": null,
            "overflow_y": null,
            "padding": null,
            "right": null,
            "top": null,
            "visibility": null,
            "width": null
          }
        }
      }
    }
  },
  "nbformat_minor": 0,
  "nbformat": 4,
  "cells": [
    {
      "cell_type": "markdown",
      "metadata": {
        "id": "view-in-github",
        "colab_type": "text"
      },
      "source": [
        "<a href=\"https://colab.research.google.com/github/tanweeteck/5-Days-GenAI-Google/blob/main/Day_2_Classifying_embeddings_with_Keras.ipynb\" target=\"_parent\"><img src=\"https://colab.research.google.com/assets/colab-badge.svg\" alt=\"Open In Colab\"/></a>"
      ]
    },
    {
      "cell_type": "markdown",
      "source": [
        "##### Copyright 2025 Google LLC."
      ],
      "metadata": {
        "id": "v0WeWbFNkUSz"
      }
    },
    {
      "cell_type": "code",
      "source": [
        "# @title Licensed under the Apache License, Version 2.0 (the \"License\");\n",
        "# you may not use this file except in compliance with the License.\n",
        "# You may obtain a copy of the License at\n",
        "#\n",
        "# https://www.apache.org/licenses/LICENSE-2.0\n",
        "#\n",
        "# Unless required by applicable law or agreed to in writing, software\n",
        "# distributed under the License is distributed on an \"AS IS\" BASIS,\n",
        "# WITHOUT WARRANTIES OR CONDITIONS OF ANY KIND, either express or implied.\n",
        "# See the License for the specific language governing permissions and\n",
        "# limitations under the License."
      ],
      "metadata": {
        "cellView": "form",
        "id": "Aqwsgz9lkUst",
        "trusted": true,
        "jupyter": {
          "source_hidden": true
        },
        "_kg_hide-input": true,
        "execution": {
          "iopub.status.busy": "2025-03-31T10:01:18.1556Z",
          "iopub.execute_input": "2025-03-31T10:01:18.15602Z",
          "iopub.status.idle": "2025-03-31T10:01:18.182312Z",
          "shell.execute_reply.started": "2025-03-31T10:01:18.155972Z",
          "shell.execute_reply": "2025-03-31T10:01:18.180984Z"
        }
      },
      "outputs": [],
      "execution_count": null
    },
    {
      "cell_type": "markdown",
      "source": [
        "# Day 2 - Classifying embeddings with Keras and the Gemini API\n",
        "\n",
        "## Overview\n",
        "\n",
        "Welcome back to the Kaggle 5-day Generative AI course. In this notebook, you'll learn to use the embeddings produced by the Gemini API to train a model that can classify newsgroup posts into the categories (the newsgroup itself) from the post contents.\n",
        "\n",
        "This technique uses the Gemini API's embeddings as input, avoiding the need to train on text input directly, and as a result it is able to perform quite well using relatively few examples compared to training a text model from scratch.\n",
        "\n",
        "## For help\n",
        "\n",
        "**Common issues are covered in the [FAQ and troubleshooting guide](https://www.kaggle.com/code/markishere/day-0-troubleshooting-and-faqs).**\n"
      ],
      "metadata": {
        "id": "bhT1u-Pof10V"
      }
    },
    {
      "cell_type": "code",
      "source": [
        "!pip uninstall -qqy jupyterlab kfp 2>/dev/null  # Remove unused conflicting packages\n",
        "!pip install -U -q \"google-genai==1.7.0\""
      ],
      "metadata": {
        "id": "FXq0ygI3BCdQ",
        "trusted": true,
        "execution": {
          "iopub.status.busy": "2025-03-31T10:01:18.185489Z",
          "iopub.execute_input": "2025-03-31T10:01:18.186698Z",
          "iopub.status.idle": "2025-03-31T10:01:37.705034Z",
          "shell.execute_reply.started": "2025-03-31T10:01:18.18664Z",
          "shell.execute_reply": "2025-03-31T10:01:37.703693Z"
        },
        "outputId": "a6fc6555-8146-45b0-c8a0-843e5dce8d77",
        "colab": {
          "base_uri": "https://localhost:8080/"
        }
      },
      "outputs": [
        {
          "output_type": "stream",
          "name": "stdout",
          "text": [
            "\u001b[?25l   \u001b[90m━━━━━━━━━━━━━━━━━━━━━━━━━━━━━━━━━━━━━━━━\u001b[0m \u001b[32m0.0/144.7 kB\u001b[0m \u001b[31m?\u001b[0m eta \u001b[36m-:--:--\u001b[0m\r\u001b[2K   \u001b[90m━━━━━━━━━━━━━━━━━━━━━━━━━━━━━━━━━━━━━━━━\u001b[0m \u001b[32m144.7/144.7 kB\u001b[0m \u001b[31m5.6 MB/s\u001b[0m eta \u001b[36m0:00:00\u001b[0m\n",
            "\u001b[?25h"
          ]
        }
      ],
      "execution_count": 1
    },
    {
      "cell_type": "code",
      "source": [
        "from google import genai\n",
        "from google.genai import types\n",
        "\n",
        "genai.__version__"
      ],
      "metadata": {
        "id": "XiJjB2vWCQJP",
        "trusted": true,
        "execution": {
          "iopub.status.busy": "2025-03-31T10:01:37.706691Z",
          "iopub.execute_input": "2025-03-31T10:01:37.707071Z",
          "iopub.status.idle": "2025-03-31T10:01:39.077088Z",
          "shell.execute_reply.started": "2025-03-31T10:01:37.707033Z",
          "shell.execute_reply": "2025-03-31T10:01:39.075899Z"
        },
        "outputId": "cfbbb521-ce48-4b8f-9385-9e01547d9ed7",
        "colab": {
          "base_uri": "https://localhost:8080/",
          "height": 35
        }
      },
      "outputs": [
        {
          "output_type": "execute_result",
          "data": {
            "text/plain": [
              "'1.7.0'"
            ],
            "application/vnd.google.colaboratory.intrinsic+json": {
              "type": "string"
            }
          },
          "metadata": {},
          "execution_count": 2
        }
      ],
      "execution_count": 2
    },
    {
      "cell_type": "markdown",
      "source": [
        "### Set up your API key\n",
        "\n",
        "To run the following cell, your API key must be stored it in a [Kaggle secret](https://www.kaggle.com/discussions/product-feedback/114053) named `GOOGLE_API_KEY`.\n",
        "\n",
        "If you don't already have an API key, you can grab one from [AI Studio](https://aistudio.google.com/app/apikey). You can find [detailed instructions in the docs](https://ai.google.dev/gemini-api/docs/api-key).\n",
        "\n",
        "To make the key available through Kaggle secrets, choose `Secrets` from the `Add-ons` menu and follow the instructions to add your key or enable it for this notebook."
      ],
      "metadata": {
        "id": "_mwJYXpElYJc"
      }
    },
    {
      "cell_type": "code",
      "source": [
        "from google.colab import userdata\n",
        "\n",
        "GOOGLE_API_KEY = userdata.get(\"GOOGLE_API_KEY\")\n",
        "\n",
        "client = genai.Client(api_key=GOOGLE_API_KEY)"
      ],
      "metadata": {
        "id": "tayrk_A2lZ7A",
        "trusted": true,
        "execution": {
          "iopub.status.busy": "2025-03-31T10:01:39.078363Z",
          "iopub.execute_input": "2025-03-31T10:01:39.078872Z",
          "iopub.status.idle": "2025-03-31T10:01:39.430812Z",
          "shell.execute_reply.started": "2025-03-31T10:01:39.078835Z",
          "shell.execute_reply": "2025-03-31T10:01:39.429731Z"
        }
      },
      "outputs": [],
      "execution_count": 3
    },
    {
      "cell_type": "markdown",
      "source": [
        "If you received an error response along the lines of `No user secrets exist for kernel id ...`, then you need to add your API key via `Add-ons`, `Secrets` **and** enable it.\n",
        "\n",
        "![Screenshot of the checkbox to enable GOOGLE_API_KEY secret](https://storage.googleapis.com/kaggle-media/Images/5gdai_sc_3.png)"
      ],
      "metadata": {
        "id": "c79728739642"
      }
    },
    {
      "cell_type": "markdown",
      "source": [
        "## Dataset\n",
        "\n",
        "The [20 Newsgroups Text Dataset](https://scikit-learn.org/0.19/datasets/twenty_newsgroups.html) contains 18,000 newsgroups posts on 20 topics divided into training and test sets. The split between the training and test datasets are based on messages posted before and after a specific date. For this tutorial, you will use sampled subsets of the training and test sets, and perform some processing using Pandas."
      ],
      "metadata": {
        "id": "C5B9sWq0hNEV"
      }
    },
    {
      "cell_type": "code",
      "source": [
        "from sklearn.datasets import fetch_20newsgroups\n",
        "\n",
        "newsgroups_train = fetch_20newsgroups(subset=\"train\")\n",
        "newsgroups_test = fetch_20newsgroups(subset=\"test\")\n",
        "\n",
        "# View list of class names for dataset\n",
        "newsgroups_train.target_names"
      ],
      "metadata": {
        "id": "jDoKis4om-Ea",
        "trusted": true,
        "execution": {
          "iopub.status.busy": "2025-03-31T10:01:39.432669Z",
          "iopub.execute_input": "2025-03-31T10:01:39.432998Z",
          "iopub.status.idle": "2025-03-31T10:01:49.249586Z",
          "shell.execute_reply.started": "2025-03-31T10:01:39.432966Z",
          "shell.execute_reply": "2025-03-31T10:01:49.248245Z"
        },
        "outputId": "75666f37-84b4-401c-9718-84af4ec301ca",
        "colab": {
          "base_uri": "https://localhost:8080/"
        }
      },
      "outputs": [
        {
          "output_type": "execute_result",
          "data": {
            "text/plain": [
              "['alt.atheism',\n",
              " 'comp.graphics',\n",
              " 'comp.os.ms-windows.misc',\n",
              " 'comp.sys.ibm.pc.hardware',\n",
              " 'comp.sys.mac.hardware',\n",
              " 'comp.windows.x',\n",
              " 'misc.forsale',\n",
              " 'rec.autos',\n",
              " 'rec.motorcycles',\n",
              " 'rec.sport.baseball',\n",
              " 'rec.sport.hockey',\n",
              " 'sci.crypt',\n",
              " 'sci.electronics',\n",
              " 'sci.med',\n",
              " 'sci.space',\n",
              " 'soc.religion.christian',\n",
              " 'talk.politics.guns',\n",
              " 'talk.politics.mideast',\n",
              " 'talk.politics.misc',\n",
              " 'talk.religion.misc']"
            ]
          },
          "metadata": {},
          "execution_count": 4
        }
      ],
      "execution_count": 4
    },
    {
      "cell_type": "markdown",
      "source": [
        "Here is an example of what a record from the training set looks like."
      ],
      "metadata": {
        "id": "hDz9MjkNl_FD"
      }
    },
    {
      "cell_type": "code",
      "source": [
        "print(newsgroups_train.data[0])"
      ],
      "metadata": {
        "id": "FPq-56AimOPX",
        "trusted": true,
        "execution": {
          "iopub.status.busy": "2025-03-31T10:01:49.251048Z",
          "iopub.execute_input": "2025-03-31T10:01:49.251535Z",
          "iopub.status.idle": "2025-03-31T10:01:49.259753Z",
          "shell.execute_reply.started": "2025-03-31T10:01:49.251484Z",
          "shell.execute_reply": "2025-03-31T10:01:49.258532Z"
        },
        "outputId": "8e9d0721-e69e-48b8-c42e-6f03221e06d8",
        "colab": {
          "base_uri": "https://localhost:8080/"
        }
      },
      "outputs": [
        {
          "output_type": "stream",
          "name": "stdout",
          "text": [
            "From: lerxst@wam.umd.edu (where's my thing)\n",
            "Subject: WHAT car is this!?\n",
            "Nntp-Posting-Host: rac3.wam.umd.edu\n",
            "Organization: University of Maryland, College Park\n",
            "Lines: 15\n",
            "\n",
            " I was wondering if anyone out there could enlighten me on this car I saw\n",
            "the other day. It was a 2-door sports car, looked to be from the late 60s/\n",
            "early 70s. It was called a Bricklin. The doors were really small. In addition,\n",
            "the front bumper was separate from the rest of the body. This is \n",
            "all I know. If anyone can tellme a model name, engine specs, years\n",
            "of production, where this car is made, history, or whatever info you\n",
            "have on this funky looking car, please e-mail.\n",
            "\n",
            "Thanks,\n",
            "- IL\n",
            "   ---- brought to you by your neighborhood Lerxst ----\n",
            "\n",
            "\n",
            "\n",
            "\n",
            "\n"
          ]
        }
      ],
      "execution_count": 5
    },
    {
      "cell_type": "markdown",
      "source": [
        "Start by preprocessing the data for this tutorial in a Pandas dataframe. To remove any sensitive information like names and email addresses, you will take only the subject and body of each message. This is an optional step that transforms the input data into more generic text, rather than email posts, so that it will work in other contexts."
      ],
      "metadata": {
        "id": "A9-DD7wgCx8j"
      }
    },
    {
      "cell_type": "code",
      "source": [
        "import email\n",
        "import re\n",
        "\n",
        "import pandas as pd\n",
        "\n",
        "\n",
        "def preprocess_newsgroup_row(data):\n",
        "    # Extract only the subject and body\n",
        "    msg = email.message_from_string(data)\n",
        "    text = f\"{msg['Subject']}\\n\\n{msg.get_payload()}\"\n",
        "    # Strip any remaining email addresses\n",
        "    text = re.sub(r\"[\\w\\.-]+@[\\w\\.-]+\", \"\", text)\n",
        "    # Truncate each entry to 5,000 characters\n",
        "    text = text[:5000]\n",
        "\n",
        "    return text\n",
        "\n",
        "\n",
        "def preprocess_newsgroup_data(newsgroup_dataset):\n",
        "    # Put data points into dataframe\n",
        "    df = pd.DataFrame(\n",
        "        {\"Text\": newsgroup_dataset.data, \"Label\": newsgroup_dataset.target}\n",
        "    )\n",
        "    # Clean up the text\n",
        "    df[\"Text\"] = df[\"Text\"].apply(preprocess_newsgroup_row)\n",
        "    # Match label to target name index\n",
        "    df[\"Class Name\"] = df[\"Label\"].map(lambda l: newsgroup_dataset.target_names[l])\n",
        "\n",
        "    return df"
      ],
      "metadata": {
        "id": "urpLwp3UmPF3",
        "trusted": true,
        "execution": {
          "iopub.status.busy": "2025-03-31T10:01:49.264223Z",
          "iopub.execute_input": "2025-03-31T10:01:49.264699Z",
          "iopub.status.idle": "2025-03-31T10:01:49.662479Z",
          "shell.execute_reply.started": "2025-03-31T10:01:49.264651Z",
          "shell.execute_reply": "2025-03-31T10:01:49.661172Z"
        }
      },
      "outputs": [],
      "execution_count": 6
    },
    {
      "cell_type": "code",
      "source": [
        "# Apply preprocessing function to training and test datasets\n",
        "df_train = preprocess_newsgroup_data(newsgroups_train)\n",
        "df_test = preprocess_newsgroup_data(newsgroups_test)\n",
        "\n",
        "df_train.head()"
      ],
      "metadata": {
        "id": "JMKddQdNnAOV",
        "trusted": true,
        "execution": {
          "iopub.status.busy": "2025-03-31T10:01:49.664001Z",
          "iopub.execute_input": "2025-03-31T10:01:49.664804Z",
          "iopub.status.idle": "2025-03-31T10:01:53.443029Z",
          "shell.execute_reply.started": "2025-03-31T10:01:49.664762Z",
          "shell.execute_reply": "2025-03-31T10:01:53.44198Z"
        },
        "outputId": "229bf48a-09bb-4100-cbaa-8434e286eca6",
        "colab": {
          "base_uri": "https://localhost:8080/",
          "height": 206
        }
      },
      "outputs": [
        {
          "output_type": "execute_result",
          "data": {
            "text/plain": [
              "                                                Text  Label  \\\n",
              "0  WHAT car is this!?\\n\\n I was wondering if anyo...      7   \n",
              "1  SI Clock Poll - Final Call\\n\\nA fair number of...      4   \n",
              "2  PB questions...\\n\\nwell folks, my mac plus fin...      4   \n",
              "3  Re: Weitek P9000 ?\\n\\nRobert J.C. Kyanko () wr...      1   \n",
              "4  Re: Shuttle Launch Question\\n\\nFrom article <>...     14   \n",
              "\n",
              "              Class Name  \n",
              "0              rec.autos  \n",
              "1  comp.sys.mac.hardware  \n",
              "2  comp.sys.mac.hardware  \n",
              "3          comp.graphics  \n",
              "4              sci.space  "
            ],
            "text/html": [
              "\n",
              "  <div id=\"df-32399b3e-8cca-49d6-b729-cb588c9c6bab\" class=\"colab-df-container\">\n",
              "    <div>\n",
              "<style scoped>\n",
              "    .dataframe tbody tr th:only-of-type {\n",
              "        vertical-align: middle;\n",
              "    }\n",
              "\n",
              "    .dataframe tbody tr th {\n",
              "        vertical-align: top;\n",
              "    }\n",
              "\n",
              "    .dataframe thead th {\n",
              "        text-align: right;\n",
              "    }\n",
              "</style>\n",
              "<table border=\"1\" class=\"dataframe\">\n",
              "  <thead>\n",
              "    <tr style=\"text-align: right;\">\n",
              "      <th></th>\n",
              "      <th>Text</th>\n",
              "      <th>Label</th>\n",
              "      <th>Class Name</th>\n",
              "    </tr>\n",
              "  </thead>\n",
              "  <tbody>\n",
              "    <tr>\n",
              "      <th>0</th>\n",
              "      <td>WHAT car is this!?\\n\\n I was wondering if anyo...</td>\n",
              "      <td>7</td>\n",
              "      <td>rec.autos</td>\n",
              "    </tr>\n",
              "    <tr>\n",
              "      <th>1</th>\n",
              "      <td>SI Clock Poll - Final Call\\n\\nA fair number of...</td>\n",
              "      <td>4</td>\n",
              "      <td>comp.sys.mac.hardware</td>\n",
              "    </tr>\n",
              "    <tr>\n",
              "      <th>2</th>\n",
              "      <td>PB questions...\\n\\nwell folks, my mac plus fin...</td>\n",
              "      <td>4</td>\n",
              "      <td>comp.sys.mac.hardware</td>\n",
              "    </tr>\n",
              "    <tr>\n",
              "      <th>3</th>\n",
              "      <td>Re: Weitek P9000 ?\\n\\nRobert J.C. Kyanko () wr...</td>\n",
              "      <td>1</td>\n",
              "      <td>comp.graphics</td>\n",
              "    </tr>\n",
              "    <tr>\n",
              "      <th>4</th>\n",
              "      <td>Re: Shuttle Launch Question\\n\\nFrom article &lt;&gt;...</td>\n",
              "      <td>14</td>\n",
              "      <td>sci.space</td>\n",
              "    </tr>\n",
              "  </tbody>\n",
              "</table>\n",
              "</div>\n",
              "    <div class=\"colab-df-buttons\">\n",
              "\n",
              "  <div class=\"colab-df-container\">\n",
              "    <button class=\"colab-df-convert\" onclick=\"convertToInteractive('df-32399b3e-8cca-49d6-b729-cb588c9c6bab')\"\n",
              "            title=\"Convert this dataframe to an interactive table.\"\n",
              "            style=\"display:none;\">\n",
              "\n",
              "  <svg xmlns=\"http://www.w3.org/2000/svg\" height=\"24px\" viewBox=\"0 -960 960 960\">\n",
              "    <path d=\"M120-120v-720h720v720H120Zm60-500h600v-160H180v160Zm220 220h160v-160H400v160Zm0 220h160v-160H400v160ZM180-400h160v-160H180v160Zm440 0h160v-160H620v160ZM180-180h160v-160H180v160Zm440 0h160v-160H620v160Z\"/>\n",
              "  </svg>\n",
              "    </button>\n",
              "\n",
              "  <style>\n",
              "    .colab-df-container {\n",
              "      display:flex;\n",
              "      gap: 12px;\n",
              "    }\n",
              "\n",
              "    .colab-df-convert {\n",
              "      background-color: #E8F0FE;\n",
              "      border: none;\n",
              "      border-radius: 50%;\n",
              "      cursor: pointer;\n",
              "      display: none;\n",
              "      fill: #1967D2;\n",
              "      height: 32px;\n",
              "      padding: 0 0 0 0;\n",
              "      width: 32px;\n",
              "    }\n",
              "\n",
              "    .colab-df-convert:hover {\n",
              "      background-color: #E2EBFA;\n",
              "      box-shadow: 0px 1px 2px rgba(60, 64, 67, 0.3), 0px 1px 3px 1px rgba(60, 64, 67, 0.15);\n",
              "      fill: #174EA6;\n",
              "    }\n",
              "\n",
              "    .colab-df-buttons div {\n",
              "      margin-bottom: 4px;\n",
              "    }\n",
              "\n",
              "    [theme=dark] .colab-df-convert {\n",
              "      background-color: #3B4455;\n",
              "      fill: #D2E3FC;\n",
              "    }\n",
              "\n",
              "    [theme=dark] .colab-df-convert:hover {\n",
              "      background-color: #434B5C;\n",
              "      box-shadow: 0px 1px 3px 1px rgba(0, 0, 0, 0.15);\n",
              "      filter: drop-shadow(0px 1px 2px rgba(0, 0, 0, 0.3));\n",
              "      fill: #FFFFFF;\n",
              "    }\n",
              "  </style>\n",
              "\n",
              "    <script>\n",
              "      const buttonEl =\n",
              "        document.querySelector('#df-32399b3e-8cca-49d6-b729-cb588c9c6bab button.colab-df-convert');\n",
              "      buttonEl.style.display =\n",
              "        google.colab.kernel.accessAllowed ? 'block' : 'none';\n",
              "\n",
              "      async function convertToInteractive(key) {\n",
              "        const element = document.querySelector('#df-32399b3e-8cca-49d6-b729-cb588c9c6bab');\n",
              "        const dataTable =\n",
              "          await google.colab.kernel.invokeFunction('convertToInteractive',\n",
              "                                                    [key], {});\n",
              "        if (!dataTable) return;\n",
              "\n",
              "        const docLinkHtml = 'Like what you see? Visit the ' +\n",
              "          '<a target=\"_blank\" href=https://colab.research.google.com/notebooks/data_table.ipynb>data table notebook</a>'\n",
              "          + ' to learn more about interactive tables.';\n",
              "        element.innerHTML = '';\n",
              "        dataTable['output_type'] = 'display_data';\n",
              "        await google.colab.output.renderOutput(dataTable, element);\n",
              "        const docLink = document.createElement('div');\n",
              "        docLink.innerHTML = docLinkHtml;\n",
              "        element.appendChild(docLink);\n",
              "      }\n",
              "    </script>\n",
              "  </div>\n",
              "\n",
              "\n",
              "<div id=\"df-6d576b7a-17a1-47f2-87bb-764fcfac72b6\">\n",
              "  <button class=\"colab-df-quickchart\" onclick=\"quickchart('df-6d576b7a-17a1-47f2-87bb-764fcfac72b6')\"\n",
              "            title=\"Suggest charts\"\n",
              "            style=\"display:none;\">\n",
              "\n",
              "<svg xmlns=\"http://www.w3.org/2000/svg\" height=\"24px\"viewBox=\"0 0 24 24\"\n",
              "     width=\"24px\">\n",
              "    <g>\n",
              "        <path d=\"M19 3H5c-1.1 0-2 .9-2 2v14c0 1.1.9 2 2 2h14c1.1 0 2-.9 2-2V5c0-1.1-.9-2-2-2zM9 17H7v-7h2v7zm4 0h-2V7h2v10zm4 0h-2v-4h2v4z\"/>\n",
              "    </g>\n",
              "</svg>\n",
              "  </button>\n",
              "\n",
              "<style>\n",
              "  .colab-df-quickchart {\n",
              "      --bg-color: #E8F0FE;\n",
              "      --fill-color: #1967D2;\n",
              "      --hover-bg-color: #E2EBFA;\n",
              "      --hover-fill-color: #174EA6;\n",
              "      --disabled-fill-color: #AAA;\n",
              "      --disabled-bg-color: #DDD;\n",
              "  }\n",
              "\n",
              "  [theme=dark] .colab-df-quickchart {\n",
              "      --bg-color: #3B4455;\n",
              "      --fill-color: #D2E3FC;\n",
              "      --hover-bg-color: #434B5C;\n",
              "      --hover-fill-color: #FFFFFF;\n",
              "      --disabled-bg-color: #3B4455;\n",
              "      --disabled-fill-color: #666;\n",
              "  }\n",
              "\n",
              "  .colab-df-quickchart {\n",
              "    background-color: var(--bg-color);\n",
              "    border: none;\n",
              "    border-radius: 50%;\n",
              "    cursor: pointer;\n",
              "    display: none;\n",
              "    fill: var(--fill-color);\n",
              "    height: 32px;\n",
              "    padding: 0;\n",
              "    width: 32px;\n",
              "  }\n",
              "\n",
              "  .colab-df-quickchart:hover {\n",
              "    background-color: var(--hover-bg-color);\n",
              "    box-shadow: 0 1px 2px rgba(60, 64, 67, 0.3), 0 1px 3px 1px rgba(60, 64, 67, 0.15);\n",
              "    fill: var(--button-hover-fill-color);\n",
              "  }\n",
              "\n",
              "  .colab-df-quickchart-complete:disabled,\n",
              "  .colab-df-quickchart-complete:disabled:hover {\n",
              "    background-color: var(--disabled-bg-color);\n",
              "    fill: var(--disabled-fill-color);\n",
              "    box-shadow: none;\n",
              "  }\n",
              "\n",
              "  .colab-df-spinner {\n",
              "    border: 2px solid var(--fill-color);\n",
              "    border-color: transparent;\n",
              "    border-bottom-color: var(--fill-color);\n",
              "    animation:\n",
              "      spin 1s steps(1) infinite;\n",
              "  }\n",
              "\n",
              "  @keyframes spin {\n",
              "    0% {\n",
              "      border-color: transparent;\n",
              "      border-bottom-color: var(--fill-color);\n",
              "      border-left-color: var(--fill-color);\n",
              "    }\n",
              "    20% {\n",
              "      border-color: transparent;\n",
              "      border-left-color: var(--fill-color);\n",
              "      border-top-color: var(--fill-color);\n",
              "    }\n",
              "    30% {\n",
              "      border-color: transparent;\n",
              "      border-left-color: var(--fill-color);\n",
              "      border-top-color: var(--fill-color);\n",
              "      border-right-color: var(--fill-color);\n",
              "    }\n",
              "    40% {\n",
              "      border-color: transparent;\n",
              "      border-right-color: var(--fill-color);\n",
              "      border-top-color: var(--fill-color);\n",
              "    }\n",
              "    60% {\n",
              "      border-color: transparent;\n",
              "      border-right-color: var(--fill-color);\n",
              "    }\n",
              "    80% {\n",
              "      border-color: transparent;\n",
              "      border-right-color: var(--fill-color);\n",
              "      border-bottom-color: var(--fill-color);\n",
              "    }\n",
              "    90% {\n",
              "      border-color: transparent;\n",
              "      border-bottom-color: var(--fill-color);\n",
              "    }\n",
              "  }\n",
              "</style>\n",
              "\n",
              "  <script>\n",
              "    async function quickchart(key) {\n",
              "      const quickchartButtonEl =\n",
              "        document.querySelector('#' + key + ' button');\n",
              "      quickchartButtonEl.disabled = true;  // To prevent multiple clicks.\n",
              "      quickchartButtonEl.classList.add('colab-df-spinner');\n",
              "      try {\n",
              "        const charts = await google.colab.kernel.invokeFunction(\n",
              "            'suggestCharts', [key], {});\n",
              "      } catch (error) {\n",
              "        console.error('Error during call to suggestCharts:', error);\n",
              "      }\n",
              "      quickchartButtonEl.classList.remove('colab-df-spinner');\n",
              "      quickchartButtonEl.classList.add('colab-df-quickchart-complete');\n",
              "    }\n",
              "    (() => {\n",
              "      let quickchartButtonEl =\n",
              "        document.querySelector('#df-6d576b7a-17a1-47f2-87bb-764fcfac72b6 button');\n",
              "      quickchartButtonEl.style.display =\n",
              "        google.colab.kernel.accessAllowed ? 'block' : 'none';\n",
              "    })();\n",
              "  </script>\n",
              "</div>\n",
              "\n",
              "    </div>\n",
              "  </div>\n"
            ],
            "application/vnd.google.colaboratory.intrinsic+json": {
              "type": "dataframe",
              "variable_name": "df_train",
              "summary": "{\n  \"name\": \"df_train\",\n  \"rows\": 11314,\n  \"fields\": [\n    {\n      \"column\": \"Text\",\n      \"properties\": {\n        \"dtype\": \"string\",\n        \"num_unique_values\": 11308,\n        \"samples\": [\n          \"Re: History question\\n\\nIn article <>  (Paul Johnson) writes:\\n>\\n>I recall reading of a phonograph which used mechanical amplification.\\n>Compressed air was squirted out of a valve which was controlled by the\\n>pickup.  The result was noisy and distinctly lo-fi, but much louder\\n>than a conventional phonograph.  It tended to wear the disks out\\n>pretty quickly though.\\n\\nThis was the Pathe you are thinking of, although there were other imitators.\\nIt didn't wear the disks any more than conventional acoustic designs, but\\nit did have a high noise level due to the continual hiss of escaping air.\\nThere are a lot of them still operating, and they are pretty ingenious.\\n\\nThere was a pneumatic amplifier designed by Alexander Graham Bell, as well,\\nbut I don't know if it was ever constructed.\\n--scott\\n\",\n          \"Emulator pods\\n\\nA surplus-dealing buddy of mine came up with two emulator pods:\\n\\n\\tHP64220C (for HP 64100 development station). 8086 target\\n\\tprocessor. DIP head. Does not include board that plugs into\\n\\tthe 64100.\\n\\n\\tApplied Microsystems 80C186/188 pod, LCC head.\\n\\nIf you have an interest in either, let me know. They look to\\nbe in excellent condition. He doesn't know what to do with them, which\\nmay mean that they'll be cheap.\\n\\n-- \\n--------------------------------------------------------------------\\n       Dave Medin\\t\\t\\tPhone:\\t(205) 730-3169 (w)\\n    SSD--Networking\\t\\t\\t\\t(205) 837-1174 (h)\\n    Intergraph Corp.\\n       M/S GD3004 \\t\\tInternet: \\n  Huntsville, AL 35894\\t\\tUUCP:  ...uunet!ingr!b30!catbyte!dtmedin\\n\\n   ******* Everywhere You Look (at least around my office) *******\\n\\n * The opinions expressed here are mine (or those of my machine)\\n\",\n          \"Re: VGA 640x400 graphics mode\\n\\n writes in article <>:\\n> \\n> Greetings!\\n> \\n> Does anybody know if it is possible to set VGA graphics mode to 640x400\\n> instead of 640x480?  Any info is appreciated!\\n\\nSome VESA bios's support this mode (0x100).  And *any* VGA should be able to\\nsupport this (640x480 by 256 colors) since it only requires 256,000 bytes.\\nMy 8514/a VESA TSR supports this; it's the only VESA mode by card can support\\ndue to 8514/a restrictions. (A WD/Paradise)\\n\\n--\\nI am not responsible for anything I do or say -- I'm just an opinion.\\n             Robert J.C. Kyanko ()\\n\"\n        ],\n        \"semantic_type\": \"\",\n        \"description\": \"\"\n      }\n    },\n    {\n      \"column\": \"Label\",\n      \"properties\": {\n        \"dtype\": \"number\",\n        \"std\": 5,\n        \"min\": 0,\n        \"max\": 19,\n        \"num_unique_values\": 20,\n        \"samples\": [\n          7,\n          17,\n          9\n        ],\n        \"semantic_type\": \"\",\n        \"description\": \"\"\n      }\n    },\n    {\n      \"column\": \"Class Name\",\n      \"properties\": {\n        \"dtype\": \"category\",\n        \"num_unique_values\": 20,\n        \"samples\": [\n          \"rec.autos\",\n          \"talk.politics.mideast\",\n          \"rec.sport.baseball\"\n        ],\n        \"semantic_type\": \"\",\n        \"description\": \"\"\n      }\n    }\n  ]\n}"
            }
          },
          "metadata": {},
          "execution_count": 7
        }
      ],
      "execution_count": 7
    },
    {
      "cell_type": "markdown",
      "source": [
        "Next, you will sample some of the data by taking 100 data points in the training dataset, and dropping a few of the categories to run through this tutorial. Choose the science categories to compare."
      ],
      "metadata": {
        "id": "ogEGbg5XDv-T"
      }
    },
    {
      "cell_type": "code",
      "source": [
        "def sample_data(df, num_samples, classes_to_keep):\n",
        "    # Sample rows, selecting num_samples of each Label.\n",
        "    df = (\n",
        "        df.groupby(\"Label\")[df.columns]\n",
        "        .apply(lambda x: x.sample(num_samples))\n",
        "        .reset_index(drop=True)\n",
        "    )\n",
        "\n",
        "    df = df[df[\"Class Name\"].str.contains(classes_to_keep)]\n",
        "\n",
        "    # We have fewer categories now, so re-calibrate the label encoding.\n",
        "    df[\"Class Name\"] = df[\"Class Name\"].astype(\"category\")\n",
        "    df[\"Encoded Label\"] = df[\"Class Name\"].cat.codes\n",
        "\n",
        "    return df"
      ],
      "metadata": {
        "id": "C2N7xXhJohLR",
        "trusted": true,
        "execution": {
          "iopub.status.busy": "2025-03-31T10:01:53.444429Z",
          "iopub.execute_input": "2025-03-31T10:01:53.444812Z",
          "iopub.status.idle": "2025-03-31T10:01:53.452025Z",
          "shell.execute_reply.started": "2025-03-31T10:01:53.444778Z",
          "shell.execute_reply": "2025-03-31T10:01:53.450774Z"
        }
      },
      "outputs": [],
      "execution_count": 8
    },
    {
      "cell_type": "code",
      "source": [
        "TRAIN_NUM_SAMPLES = 100\n",
        "TEST_NUM_SAMPLES = 25\n",
        "# Class name should contain 'sci' to keep science categories.\n",
        "# Try different labels from the data - see newsgroups_train.target_names\n",
        "CLASSES_TO_KEEP = \"sci\"\n",
        "\n",
        "df_train = sample_data(df_train, TRAIN_NUM_SAMPLES, CLASSES_TO_KEEP)\n",
        "df_test = sample_data(df_test, TEST_NUM_SAMPLES, CLASSES_TO_KEEP)"
      ],
      "metadata": {
        "id": "jS2g_ZGupBUb",
        "trusted": true,
        "execution": {
          "iopub.status.busy": "2025-03-31T10:01:53.453349Z",
          "iopub.execute_input": "2025-03-31T10:01:53.453692Z",
          "iopub.status.idle": "2025-03-31T10:01:53.511806Z",
          "shell.execute_reply.started": "2025-03-31T10:01:53.453661Z",
          "shell.execute_reply": "2025-03-31T10:01:53.510634Z"
        }
      },
      "outputs": [],
      "execution_count": 9
    },
    {
      "cell_type": "code",
      "source": [
        "df_train.value_counts(\"Class Name\")"
      ],
      "metadata": {
        "id": "j04TMPY8rV5q",
        "trusted": true,
        "execution": {
          "iopub.status.busy": "2025-03-31T10:01:53.513267Z",
          "iopub.execute_input": "2025-03-31T10:01:53.513737Z",
          "iopub.status.idle": "2025-03-31T10:01:53.526599Z",
          "shell.execute_reply.started": "2025-03-31T10:01:53.513687Z",
          "shell.execute_reply": "2025-03-31T10:01:53.525357Z"
        },
        "outputId": "c70945d4-9311-4b52-bdc4-7480e7bb61b9",
        "colab": {
          "base_uri": "https://localhost:8080/",
          "height": 241
        }
      },
      "outputs": [
        {
          "output_type": "execute_result",
          "data": {
            "text/plain": [
              "Class Name\n",
              "sci.crypt          100\n",
              "sci.electronics    100\n",
              "sci.med            100\n",
              "sci.space          100\n",
              "Name: count, dtype: int64"
            ],
            "text/html": [
              "<div>\n",
              "<style scoped>\n",
              "    .dataframe tbody tr th:only-of-type {\n",
              "        vertical-align: middle;\n",
              "    }\n",
              "\n",
              "    .dataframe tbody tr th {\n",
              "        vertical-align: top;\n",
              "    }\n",
              "\n",
              "    .dataframe thead th {\n",
              "        text-align: right;\n",
              "    }\n",
              "</style>\n",
              "<table border=\"1\" class=\"dataframe\">\n",
              "  <thead>\n",
              "    <tr style=\"text-align: right;\">\n",
              "      <th></th>\n",
              "      <th>count</th>\n",
              "    </tr>\n",
              "    <tr>\n",
              "      <th>Class Name</th>\n",
              "      <th></th>\n",
              "    </tr>\n",
              "  </thead>\n",
              "  <tbody>\n",
              "    <tr>\n",
              "      <th>sci.crypt</th>\n",
              "      <td>100</td>\n",
              "    </tr>\n",
              "    <tr>\n",
              "      <th>sci.electronics</th>\n",
              "      <td>100</td>\n",
              "    </tr>\n",
              "    <tr>\n",
              "      <th>sci.med</th>\n",
              "      <td>100</td>\n",
              "    </tr>\n",
              "    <tr>\n",
              "      <th>sci.space</th>\n",
              "      <td>100</td>\n",
              "    </tr>\n",
              "  </tbody>\n",
              "</table>\n",
              "</div><br><label><b>dtype:</b> int64</label>"
            ]
          },
          "metadata": {},
          "execution_count": 10
        }
      ],
      "execution_count": 10
    },
    {
      "cell_type": "code",
      "source": [
        "df_test.value_counts(\"Class Name\")"
      ],
      "metadata": {
        "id": "qMsnfkVDsJlU",
        "trusted": true,
        "execution": {
          "iopub.status.busy": "2025-03-31T10:01:53.52803Z",
          "iopub.execute_input": "2025-03-31T10:01:53.528429Z",
          "iopub.status.idle": "2025-03-31T10:01:53.542964Z",
          "shell.execute_reply.started": "2025-03-31T10:01:53.528381Z",
          "shell.execute_reply": "2025-03-31T10:01:53.541862Z"
        },
        "outputId": "5c7755df-2d10-446b-e7ad-6d69d4b23999",
        "colab": {
          "base_uri": "https://localhost:8080/",
          "height": 241
        }
      },
      "outputs": [
        {
          "output_type": "execute_result",
          "data": {
            "text/plain": [
              "Class Name\n",
              "sci.crypt          25\n",
              "sci.electronics    25\n",
              "sci.med            25\n",
              "sci.space          25\n",
              "Name: count, dtype: int64"
            ],
            "text/html": [
              "<div>\n",
              "<style scoped>\n",
              "    .dataframe tbody tr th:only-of-type {\n",
              "        vertical-align: middle;\n",
              "    }\n",
              "\n",
              "    .dataframe tbody tr th {\n",
              "        vertical-align: top;\n",
              "    }\n",
              "\n",
              "    .dataframe thead th {\n",
              "        text-align: right;\n",
              "    }\n",
              "</style>\n",
              "<table border=\"1\" class=\"dataframe\">\n",
              "  <thead>\n",
              "    <tr style=\"text-align: right;\">\n",
              "      <th></th>\n",
              "      <th>count</th>\n",
              "    </tr>\n",
              "    <tr>\n",
              "      <th>Class Name</th>\n",
              "      <th></th>\n",
              "    </tr>\n",
              "  </thead>\n",
              "  <tbody>\n",
              "    <tr>\n",
              "      <th>sci.crypt</th>\n",
              "      <td>25</td>\n",
              "    </tr>\n",
              "    <tr>\n",
              "      <th>sci.electronics</th>\n",
              "      <td>25</td>\n",
              "    </tr>\n",
              "    <tr>\n",
              "      <th>sci.med</th>\n",
              "      <td>25</td>\n",
              "    </tr>\n",
              "    <tr>\n",
              "      <th>sci.space</th>\n",
              "      <td>25</td>\n",
              "    </tr>\n",
              "  </tbody>\n",
              "</table>\n",
              "</div><br><label><b>dtype:</b> int64</label>"
            ]
          },
          "metadata": {},
          "execution_count": 11
        }
      ],
      "execution_count": 11
    },
    {
      "cell_type": "markdown",
      "source": [
        "## Create the embeddings\n",
        "\n",
        "In this section, you will generate embeddings for each piece of text using the Gemini API embeddings endpoint. To learn more about embeddings, visit the [embeddings guide](https://ai.google.dev/docs/embeddings_guide).\n",
        "\n",
        "**NOTE**: Embeddings are computed one at a time, so large sample sizes can take a long time!"
      ],
      "metadata": {
        "id": "Kr-WlKzXjYWn"
      }
    },
    {
      "cell_type": "markdown",
      "source": [
        "### Task types\n",
        "\n",
        "The `text-embedding-004` model supports a task type parameter that generates embeddings tailored for the specific task.\n",
        "\n",
        "Task Type | Description\n",
        "---       | ---\n",
        "RETRIEVAL_QUERY\t| Specifies the given text is a query in a search/retrieval setting.\n",
        "RETRIEVAL_DOCUMENT | Specifies the given text is a document in a search/retrieval setting.\n",
        "SEMANTIC_SIMILARITY\t| Specifies the given text will be used for Semantic Textual Similarity (STS).\n",
        "CLASSIFICATION\t| Specifies that the embeddings will be used for classification.\n",
        "CLUSTERING\t| Specifies that the embeddings will be used for clustering.\n",
        "FACT_VERIFICATION | Specifies that the given text will be used for fact verification.\n",
        "\n",
        "For this example you will be performing classification."
      ],
      "metadata": {
        "id": "yPECMeE2xYA_"
      }
    },
    {
      "cell_type": "code",
      "source": [
        "from google.api_core import retry\n",
        "import tqdm\n",
        "from tqdm.rich import tqdm as tqdmr\n",
        "import warnings\n",
        "\n",
        "# Add tqdm to Pandas...\n",
        "tqdmr.pandas()\n",
        "\n",
        "# ...But suppress the experimental warning.\n",
        "warnings.filterwarnings(\"ignore\", category=tqdm.TqdmExperimentalWarning)\n",
        "\n",
        "# Define a helper to retry when per-minute quota is reached.\n",
        "is_retriable = lambda e: (isinstance(e, genai.errors.APIError) and e.code in {429, 503})\n",
        "\n",
        "@retry.Retry(predicate=is_retriable, timeout=300.0)\n",
        "def embed_fn(text: str) -> list[float]:\n",
        "    # You will be performing classification, so set task_type accordingly.\n",
        "    response = client.models.embed_content(\n",
        "        model=\"models/text-embedding-004\",\n",
        "        contents=text,\n",
        "        config=types.EmbedContentConfig(\n",
        "            task_type=\"classification\",\n",
        "        ),\n",
        "    )\n",
        "\n",
        "    return response.embeddings[0].values\n",
        "\n",
        "\n",
        "def create_embeddings(df):\n",
        "    df[\"Embeddings\"] = df[\"Text\"].progress_apply(embed_fn)\n",
        "    return df"
      ],
      "metadata": {
        "id": "MTBGKkPQsotz",
        "trusted": true,
        "execution": {
          "iopub.status.busy": "2025-03-31T10:01:53.544318Z",
          "iopub.execute_input": "2025-03-31T10:01:53.544656Z",
          "iopub.status.idle": "2025-03-31T10:01:53.738825Z",
          "shell.execute_reply.started": "2025-03-31T10:01:53.544624Z",
          "shell.execute_reply": "2025-03-31T10:01:53.737619Z"
        }
      },
      "outputs": [],
      "execution_count": 12
    },
    {
      "cell_type": "markdown",
      "source": [
        "This code is optimised for clarity, and is not particularly fast. It is left as an exercise for the reader to implement [batch](https://ai.google.dev/api/embeddings#method:-models.batchembedcontents) or parallel/asynchronous embedding generation. Running this step will take some time."
      ],
      "metadata": {
        "id": "HVDwY8F2kW2O"
      }
    },
    {
      "cell_type": "code",
      "source": [
        "df_train = create_embeddings(df_train)\n",
        "df_test = create_embeddings(df_test)"
      ],
      "metadata": {
        "id": "AH0yrHUHtHtw",
        "trusted": true,
        "execution": {
          "iopub.status.busy": "2025-03-31T10:01:53.7406Z",
          "iopub.execute_input": "2025-03-31T10:01:53.741297Z",
          "iopub.status.idle": "2025-03-31T10:07:09.107805Z",
          "shell.execute_reply.started": "2025-03-31T10:01:53.741245Z",
          "shell.execute_reply": "2025-03-31T10:07:09.106642Z"
        },
        "outputId": "833ee645-6edf-40b7-c229-17d2f942f185",
        "colab": {
          "base_uri": "https://localhost:8080/",
          "height": 80,
          "referenced_widgets": [
            "3128bd53e7da44bea6c399c2cd2c10c3",
            "5728e9dcf98749dc8fb5b29d9a1d36dc",
            "10dd56cbaafe440da6e60b7948fa6a2a",
            "2d124f454e15438a83a8b97a46d53523"
          ]
        }
      },
      "outputs": [
        {
          "output_type": "display_data",
          "data": {
            "text/plain": [
              "Output()"
            ],
            "application/vnd.jupyter.widget-view+json": {
              "version_major": 2,
              "version_minor": 0,
              "model_id": "3128bd53e7da44bea6c399c2cd2c10c3"
            }
          },
          "metadata": {}
        },
        {
          "output_type": "display_data",
          "data": {
            "text/plain": [],
            "text/html": [
              "<pre style=\"white-space:pre;overflow-x:auto;line-height:normal;font-family:Menlo,'DejaVu Sans Mono',consolas,'Courier New',monospace\"></pre>\n"
            ]
          },
          "metadata": {}
        },
        {
          "output_type": "display_data",
          "data": {
            "text/plain": [
              "Output()"
            ],
            "application/vnd.jupyter.widget-view+json": {
              "version_major": 2,
              "version_minor": 0,
              "model_id": "10dd56cbaafe440da6e60b7948fa6a2a"
            }
          },
          "metadata": {}
        },
        {
          "output_type": "display_data",
          "data": {
            "text/plain": [],
            "text/html": [
              "<pre style=\"white-space:pre;overflow-x:auto;line-height:normal;font-family:Menlo,'DejaVu Sans Mono',consolas,'Courier New',monospace\"></pre>\n"
            ]
          },
          "metadata": {}
        }
      ],
      "execution_count": 13
    },
    {
      "cell_type": "code",
      "source": [
        "df_train.head()"
      ],
      "metadata": {
        "id": "6G5TvLlmRjHc",
        "trusted": true,
        "execution": {
          "iopub.status.busy": "2025-03-31T10:07:09.109299Z",
          "iopub.execute_input": "2025-03-31T10:07:09.10967Z",
          "iopub.status.idle": "2025-03-31T10:07:09.127195Z",
          "shell.execute_reply.started": "2025-03-31T10:07:09.109635Z",
          "shell.execute_reply": "2025-03-31T10:07:09.125874Z"
        },
        "outputId": "da038a0a-49c1-4cc8-b35f-f287d8a512f3",
        "colab": {
          "base_uri": "https://localhost:8080/",
          "height": 310
        }
      },
      "outputs": [
        {
          "output_type": "execute_result",
          "data": {
            "text/plain": [
              "                                                   Text  Label Class Name  \\\n",
              "1100  Re: text of White House announcement and Q&As ...     11  sci.crypt   \n",
              "1101  What is going on?...\\n\\nIn article <1qhc2p$>, ...     11  sci.crypt   \n",
              "1102  Re: Off the shelf cheap DES keyseach machine (...     11  sci.crypt   \n",
              "1103  Re: Would \"clipper\" make a good cover for othe...     11  sci.crypt   \n",
              "1104  Re: Once tapped, your code is no good any more...     11  sci.crypt   \n",
              "\n",
              "      Encoded Label                                         Embeddings  \n",
              "1100              0  [0.004284932, 0.024402196, -0.059574366, 0.040...  \n",
              "1101              0  [-0.005170958, 0.023027156, -0.038405105, 0.02...  \n",
              "1102              0  [0.0036444229, 0.012952782, -0.036237206, 0.03...  \n",
              "1103              0  [-0.008828554, 0.028210932, -0.043240845, 0.02...  \n",
              "1104              0  [-0.017545529, 0.0061949114, -0.013666247, 0.0...  "
            ],
            "text/html": [
              "\n",
              "  <div id=\"df-a0780a44-41a5-4c75-a70d-6a086492b5d2\" class=\"colab-df-container\">\n",
              "    <div>\n",
              "<style scoped>\n",
              "    .dataframe tbody tr th:only-of-type {\n",
              "        vertical-align: middle;\n",
              "    }\n",
              "\n",
              "    .dataframe tbody tr th {\n",
              "        vertical-align: top;\n",
              "    }\n",
              "\n",
              "    .dataframe thead th {\n",
              "        text-align: right;\n",
              "    }\n",
              "</style>\n",
              "<table border=\"1\" class=\"dataframe\">\n",
              "  <thead>\n",
              "    <tr style=\"text-align: right;\">\n",
              "      <th></th>\n",
              "      <th>Text</th>\n",
              "      <th>Label</th>\n",
              "      <th>Class Name</th>\n",
              "      <th>Encoded Label</th>\n",
              "      <th>Embeddings</th>\n",
              "    </tr>\n",
              "  </thead>\n",
              "  <tbody>\n",
              "    <tr>\n",
              "      <th>1100</th>\n",
              "      <td>Re: text of White House announcement and Q&amp;As ...</td>\n",
              "      <td>11</td>\n",
              "      <td>sci.crypt</td>\n",
              "      <td>0</td>\n",
              "      <td>[0.004284932, 0.024402196, -0.059574366, 0.040...</td>\n",
              "    </tr>\n",
              "    <tr>\n",
              "      <th>1101</th>\n",
              "      <td>What is going on?...\\n\\nIn article &lt;1qhc2p$&gt;, ...</td>\n",
              "      <td>11</td>\n",
              "      <td>sci.crypt</td>\n",
              "      <td>0</td>\n",
              "      <td>[-0.005170958, 0.023027156, -0.038405105, 0.02...</td>\n",
              "    </tr>\n",
              "    <tr>\n",
              "      <th>1102</th>\n",
              "      <td>Re: Off the shelf cheap DES keyseach machine (...</td>\n",
              "      <td>11</td>\n",
              "      <td>sci.crypt</td>\n",
              "      <td>0</td>\n",
              "      <td>[0.0036444229, 0.012952782, -0.036237206, 0.03...</td>\n",
              "    </tr>\n",
              "    <tr>\n",
              "      <th>1103</th>\n",
              "      <td>Re: Would \"clipper\" make a good cover for othe...</td>\n",
              "      <td>11</td>\n",
              "      <td>sci.crypt</td>\n",
              "      <td>0</td>\n",
              "      <td>[-0.008828554, 0.028210932, -0.043240845, 0.02...</td>\n",
              "    </tr>\n",
              "    <tr>\n",
              "      <th>1104</th>\n",
              "      <td>Re: Once tapped, your code is no good any more...</td>\n",
              "      <td>11</td>\n",
              "      <td>sci.crypt</td>\n",
              "      <td>0</td>\n",
              "      <td>[-0.017545529, 0.0061949114, -0.013666247, 0.0...</td>\n",
              "    </tr>\n",
              "  </tbody>\n",
              "</table>\n",
              "</div>\n",
              "    <div class=\"colab-df-buttons\">\n",
              "\n",
              "  <div class=\"colab-df-container\">\n",
              "    <button class=\"colab-df-convert\" onclick=\"convertToInteractive('df-a0780a44-41a5-4c75-a70d-6a086492b5d2')\"\n",
              "            title=\"Convert this dataframe to an interactive table.\"\n",
              "            style=\"display:none;\">\n",
              "\n",
              "  <svg xmlns=\"http://www.w3.org/2000/svg\" height=\"24px\" viewBox=\"0 -960 960 960\">\n",
              "    <path d=\"M120-120v-720h720v720H120Zm60-500h600v-160H180v160Zm220 220h160v-160H400v160Zm0 220h160v-160H400v160ZM180-400h160v-160H180v160Zm440 0h160v-160H620v160ZM180-180h160v-160H180v160Zm440 0h160v-160H620v160Z\"/>\n",
              "  </svg>\n",
              "    </button>\n",
              "\n",
              "  <style>\n",
              "    .colab-df-container {\n",
              "      display:flex;\n",
              "      gap: 12px;\n",
              "    }\n",
              "\n",
              "    .colab-df-convert {\n",
              "      background-color: #E8F0FE;\n",
              "      border: none;\n",
              "      border-radius: 50%;\n",
              "      cursor: pointer;\n",
              "      display: none;\n",
              "      fill: #1967D2;\n",
              "      height: 32px;\n",
              "      padding: 0 0 0 0;\n",
              "      width: 32px;\n",
              "    }\n",
              "\n",
              "    .colab-df-convert:hover {\n",
              "      background-color: #E2EBFA;\n",
              "      box-shadow: 0px 1px 2px rgba(60, 64, 67, 0.3), 0px 1px 3px 1px rgba(60, 64, 67, 0.15);\n",
              "      fill: #174EA6;\n",
              "    }\n",
              "\n",
              "    .colab-df-buttons div {\n",
              "      margin-bottom: 4px;\n",
              "    }\n",
              "\n",
              "    [theme=dark] .colab-df-convert {\n",
              "      background-color: #3B4455;\n",
              "      fill: #D2E3FC;\n",
              "    }\n",
              "\n",
              "    [theme=dark] .colab-df-convert:hover {\n",
              "      background-color: #434B5C;\n",
              "      box-shadow: 0px 1px 3px 1px rgba(0, 0, 0, 0.15);\n",
              "      filter: drop-shadow(0px 1px 2px rgba(0, 0, 0, 0.3));\n",
              "      fill: #FFFFFF;\n",
              "    }\n",
              "  </style>\n",
              "\n",
              "    <script>\n",
              "      const buttonEl =\n",
              "        document.querySelector('#df-a0780a44-41a5-4c75-a70d-6a086492b5d2 button.colab-df-convert');\n",
              "      buttonEl.style.display =\n",
              "        google.colab.kernel.accessAllowed ? 'block' : 'none';\n",
              "\n",
              "      async function convertToInteractive(key) {\n",
              "        const element = document.querySelector('#df-a0780a44-41a5-4c75-a70d-6a086492b5d2');\n",
              "        const dataTable =\n",
              "          await google.colab.kernel.invokeFunction('convertToInteractive',\n",
              "                                                    [key], {});\n",
              "        if (!dataTable) return;\n",
              "\n",
              "        const docLinkHtml = 'Like what you see? Visit the ' +\n",
              "          '<a target=\"_blank\" href=https://colab.research.google.com/notebooks/data_table.ipynb>data table notebook</a>'\n",
              "          + ' to learn more about interactive tables.';\n",
              "        element.innerHTML = '';\n",
              "        dataTable['output_type'] = 'display_data';\n",
              "        await google.colab.output.renderOutput(dataTable, element);\n",
              "        const docLink = document.createElement('div');\n",
              "        docLink.innerHTML = docLinkHtml;\n",
              "        element.appendChild(docLink);\n",
              "      }\n",
              "    </script>\n",
              "  </div>\n",
              "\n",
              "\n",
              "<div id=\"df-2aad922d-9647-4bb5-9cd9-faf188b48669\">\n",
              "  <button class=\"colab-df-quickchart\" onclick=\"quickchart('df-2aad922d-9647-4bb5-9cd9-faf188b48669')\"\n",
              "            title=\"Suggest charts\"\n",
              "            style=\"display:none;\">\n",
              "\n",
              "<svg xmlns=\"http://www.w3.org/2000/svg\" height=\"24px\"viewBox=\"0 0 24 24\"\n",
              "     width=\"24px\">\n",
              "    <g>\n",
              "        <path d=\"M19 3H5c-1.1 0-2 .9-2 2v14c0 1.1.9 2 2 2h14c1.1 0 2-.9 2-2V5c0-1.1-.9-2-2-2zM9 17H7v-7h2v7zm4 0h-2V7h2v10zm4 0h-2v-4h2v4z\"/>\n",
              "    </g>\n",
              "</svg>\n",
              "  </button>\n",
              "\n",
              "<style>\n",
              "  .colab-df-quickchart {\n",
              "      --bg-color: #E8F0FE;\n",
              "      --fill-color: #1967D2;\n",
              "      --hover-bg-color: #E2EBFA;\n",
              "      --hover-fill-color: #174EA6;\n",
              "      --disabled-fill-color: #AAA;\n",
              "      --disabled-bg-color: #DDD;\n",
              "  }\n",
              "\n",
              "  [theme=dark] .colab-df-quickchart {\n",
              "      --bg-color: #3B4455;\n",
              "      --fill-color: #D2E3FC;\n",
              "      --hover-bg-color: #434B5C;\n",
              "      --hover-fill-color: #FFFFFF;\n",
              "      --disabled-bg-color: #3B4455;\n",
              "      --disabled-fill-color: #666;\n",
              "  }\n",
              "\n",
              "  .colab-df-quickchart {\n",
              "    background-color: var(--bg-color);\n",
              "    border: none;\n",
              "    border-radius: 50%;\n",
              "    cursor: pointer;\n",
              "    display: none;\n",
              "    fill: var(--fill-color);\n",
              "    height: 32px;\n",
              "    padding: 0;\n",
              "    width: 32px;\n",
              "  }\n",
              "\n",
              "  .colab-df-quickchart:hover {\n",
              "    background-color: var(--hover-bg-color);\n",
              "    box-shadow: 0 1px 2px rgba(60, 64, 67, 0.3), 0 1px 3px 1px rgba(60, 64, 67, 0.15);\n",
              "    fill: var(--button-hover-fill-color);\n",
              "  }\n",
              "\n",
              "  .colab-df-quickchart-complete:disabled,\n",
              "  .colab-df-quickchart-complete:disabled:hover {\n",
              "    background-color: var(--disabled-bg-color);\n",
              "    fill: var(--disabled-fill-color);\n",
              "    box-shadow: none;\n",
              "  }\n",
              "\n",
              "  .colab-df-spinner {\n",
              "    border: 2px solid var(--fill-color);\n",
              "    border-color: transparent;\n",
              "    border-bottom-color: var(--fill-color);\n",
              "    animation:\n",
              "      spin 1s steps(1) infinite;\n",
              "  }\n",
              "\n",
              "  @keyframes spin {\n",
              "    0% {\n",
              "      border-color: transparent;\n",
              "      border-bottom-color: var(--fill-color);\n",
              "      border-left-color: var(--fill-color);\n",
              "    }\n",
              "    20% {\n",
              "      border-color: transparent;\n",
              "      border-left-color: var(--fill-color);\n",
              "      border-top-color: var(--fill-color);\n",
              "    }\n",
              "    30% {\n",
              "      border-color: transparent;\n",
              "      border-left-color: var(--fill-color);\n",
              "      border-top-color: var(--fill-color);\n",
              "      border-right-color: var(--fill-color);\n",
              "    }\n",
              "    40% {\n",
              "      border-color: transparent;\n",
              "      border-right-color: var(--fill-color);\n",
              "      border-top-color: var(--fill-color);\n",
              "    }\n",
              "    60% {\n",
              "      border-color: transparent;\n",
              "      border-right-color: var(--fill-color);\n",
              "    }\n",
              "    80% {\n",
              "      border-color: transparent;\n",
              "      border-right-color: var(--fill-color);\n",
              "      border-bottom-color: var(--fill-color);\n",
              "    }\n",
              "    90% {\n",
              "      border-color: transparent;\n",
              "      border-bottom-color: var(--fill-color);\n",
              "    }\n",
              "  }\n",
              "</style>\n",
              "\n",
              "  <script>\n",
              "    async function quickchart(key) {\n",
              "      const quickchartButtonEl =\n",
              "        document.querySelector('#' + key + ' button');\n",
              "      quickchartButtonEl.disabled = true;  // To prevent multiple clicks.\n",
              "      quickchartButtonEl.classList.add('colab-df-spinner');\n",
              "      try {\n",
              "        const charts = await google.colab.kernel.invokeFunction(\n",
              "            'suggestCharts', [key], {});\n",
              "      } catch (error) {\n",
              "        console.error('Error during call to suggestCharts:', error);\n",
              "      }\n",
              "      quickchartButtonEl.classList.remove('colab-df-spinner');\n",
              "      quickchartButtonEl.classList.add('colab-df-quickchart-complete');\n",
              "    }\n",
              "    (() => {\n",
              "      let quickchartButtonEl =\n",
              "        document.querySelector('#df-2aad922d-9647-4bb5-9cd9-faf188b48669 button');\n",
              "      quickchartButtonEl.style.display =\n",
              "        google.colab.kernel.accessAllowed ? 'block' : 'none';\n",
              "    })();\n",
              "  </script>\n",
              "</div>\n",
              "\n",
              "    </div>\n",
              "  </div>\n"
            ],
            "application/vnd.google.colaboratory.intrinsic+json": {
              "type": "dataframe",
              "variable_name": "df_train",
              "summary": "{\n  \"name\": \"df_train\",\n  \"rows\": 400,\n  \"fields\": [\n    {\n      \"column\": \"Text\",\n      \"properties\": {\n        \"dtype\": \"string\",\n        \"num_unique_values\": 400,\n        \"samples\": [\n          \"Re: Barbecued foods and health risk\\n\\nAlso, don't forget that it's better for your health to enjoy your steak\\nthan to resent your sprouts ...\\n-- \\nMark McWiggins        Hermes & Associates\\t\\t+1 206 632 1905 (voice)\\n    Box 31356, Seattle WA 98103-1356  +1 206 632 1738 (fax)\\n\",\n          \"EXPERTS on PENICILLIN...LOOK!\\n\\nMy name is Noah Dacumos and I am a student at San Leandro High.  I am\\ndoing a project for my physics class and I would like some info on the\\ndiscovery of penicillin, its discoverer(Sir Alexander Fleming), and how it\\nhelps people with many incurable bacterias.  Also how it effects those who\\nare allergic to it.  Any info will be greatly appreciated.\\n\\n\\t\\t\\t\\t\\tNoah Dacumos\\n\\n\",\n          \"Re: text of White House announcement and Q&As on clipper chip encryption\\n\\nIn article <>  writes:\\n>and since the US constitutions guarantees the right to every American\\n>to bear arms, why is not every American entitled, as a matter of\\n\\nHave you read the applicable part of the Constitution and interpreted it IN \\nCONTEXT?  If not, please do so before posting this misinterpretation again.\\nIt refers to the right of the people to organize a militia, not for individuals \\nto carry handguns, grenades, and assault rifles.  \\n\\nRobert L. Ward\\n\\n\"\n        ],\n        \"semantic_type\": \"\",\n        \"description\": \"\"\n      }\n    },\n    {\n      \"column\": \"Label\",\n      \"properties\": {\n        \"dtype\": \"number\",\n        \"std\": 1,\n        \"min\": 11,\n        \"max\": 14,\n        \"num_unique_values\": 4,\n        \"samples\": [\n          12,\n          14,\n          11\n        ],\n        \"semantic_type\": \"\",\n        \"description\": \"\"\n      }\n    },\n    {\n      \"column\": \"Class Name\",\n      \"properties\": {\n        \"dtype\": \"category\",\n        \"num_unique_values\": 4,\n        \"samples\": [\n          \"sci.electronics\",\n          \"sci.space\",\n          \"sci.crypt\"\n        ],\n        \"semantic_type\": \"\",\n        \"description\": \"\"\n      }\n    },\n    {\n      \"column\": \"Encoded Label\",\n      \"properties\": {\n        \"dtype\": \"int8\",\n        \"num_unique_values\": 4,\n        \"samples\": [\n          1,\n          3,\n          0\n        ],\n        \"semantic_type\": \"\",\n        \"description\": \"\"\n      }\n    },\n    {\n      \"column\": \"Embeddings\",\n      \"properties\": {\n        \"dtype\": \"object\",\n        \"semantic_type\": \"\",\n        \"description\": \"\"\n      }\n    }\n  ]\n}"
            }
          },
          "metadata": {},
          "execution_count": 15
        }
      ],
      "execution_count": 15
    },
    {
      "cell_type": "markdown",
      "source": [
        "## Build a classification model\n",
        "\n",
        "Here you will define a simple model that accepts the raw embedding data as input, has one hidden layer, and an output layer specifying the class probabilities. The prediction will correspond to the probability of a piece of text being a particular class of news.\n",
        "\n",
        "When you run the model, Keras will take care of details like shuffling the data points, calculating metrics and other ML boilerplate."
      ],
      "metadata": {
        "id": "QPYEYkIsWt_5"
      }
    },
    {
      "cell_type": "code",
      "source": [
        "import keras\n",
        "from keras import layers\n",
        "\n",
        "\n",
        "def build_classification_model(input_size: int, num_classes: int) -> keras.Model:\n",
        "    return keras.Sequential(\n",
        "        [\n",
        "            layers.Input([input_size], name=\"embedding_inputs\"),\n",
        "            layers.Dense(input_size, activation=\"relu\", name=\"hidden\"),\n",
        "            layers.Dense(num_classes, activation=\"softmax\", name=\"output_probs\"),\n",
        "        ]\n",
        "    )"
      ],
      "metadata": {
        "id": "3oLGi4w5JsQR",
        "trusted": true,
        "execution": {
          "iopub.status.busy": "2025-03-31T10:07:09.128524Z",
          "iopub.execute_input": "2025-03-31T10:07:09.128871Z",
          "iopub.status.idle": "2025-03-31T10:07:22.841204Z",
          "shell.execute_reply.started": "2025-03-31T10:07:09.128836Z",
          "shell.execute_reply": "2025-03-31T10:07:22.839888Z"
        }
      },
      "outputs": [],
      "execution_count": 14
    },
    {
      "cell_type": "code",
      "source": [
        "# Derive the embedding size from observing the data. The embedding size can also be specified\n",
        "# with the `output_dimensionality` parameter to `embed_content` if you need to reduce it.\n",
        "embedding_size = len(df_train[\"Embeddings\"].iloc[0])\n",
        "\n",
        "classifier = build_classification_model(\n",
        "    embedding_size, len(df_train[\"Class Name\"].unique())\n",
        ")\n",
        "classifier.summary()\n",
        "\n",
        "classifier.compile(\n",
        "    loss=keras.losses.SparseCategoricalCrossentropy(),\n",
        "    optimizer=keras.optimizers.Adam(learning_rate=0.001),\n",
        "    metrics=[\"accuracy\"],\n",
        ")"
      ],
      "metadata": {
        "id": "kORA1Akl5GsG",
        "trusted": true,
        "execution": {
          "iopub.status.busy": "2025-03-31T10:07:22.842565Z",
          "iopub.execute_input": "2025-03-31T10:07:22.843158Z",
          "iopub.status.idle": "2025-03-31T10:07:22.957035Z",
          "shell.execute_reply.started": "2025-03-31T10:07:22.843124Z",
          "shell.execute_reply": "2025-03-31T10:07:22.955841Z"
        },
        "outputId": "110f039f-7242-4319-c959-18cee163b40a",
        "colab": {
          "base_uri": "https://localhost:8080/",
          "height": 199
        }
      },
      "outputs": [
        {
          "output_type": "display_data",
          "data": {
            "text/plain": [
              "\u001b[1mModel: \"sequential\"\u001b[0m\n"
            ],
            "text/html": [
              "<pre style=\"white-space:pre;overflow-x:auto;line-height:normal;font-family:Menlo,'DejaVu Sans Mono',consolas,'Courier New',monospace\"><span style=\"font-weight: bold\">Model: \"sequential\"</span>\n",
              "</pre>\n"
            ]
          },
          "metadata": {}
        },
        {
          "output_type": "display_data",
          "data": {
            "text/plain": [
              "┏━━━━━━━━━━━━━━━━━━━━━━━━━━━━━━━━━━━━━━┳━━━━━━━━━━━━━━━━━━━━━━━━━━━━━┳━━━━━━━━━━━━━━━━━┓\n",
              "┃\u001b[1m \u001b[0m\u001b[1mLayer (type)                        \u001b[0m\u001b[1m \u001b[0m┃\u001b[1m \u001b[0m\u001b[1mOutput Shape               \u001b[0m\u001b[1m \u001b[0m┃\u001b[1m \u001b[0m\u001b[1m        Param #\u001b[0m\u001b[1m \u001b[0m┃\n",
              "┡━━━━━━━━━━━━━━━━━━━━━━━━━━━━━━━━━━━━━━╇━━━━━━━━━━━━━━━━━━━━━━━━━━━━━╇━━━━━━━━━━━━━━━━━┩\n",
              "│ hidden (\u001b[38;5;33mDense\u001b[0m)                       │ (\u001b[38;5;45mNone\u001b[0m, \u001b[38;5;34m768\u001b[0m)                 │         \u001b[38;5;34m590,592\u001b[0m │\n",
              "├──────────────────────────────────────┼─────────────────────────────┼─────────────────┤\n",
              "│ output_probs (\u001b[38;5;33mDense\u001b[0m)                 │ (\u001b[38;5;45mNone\u001b[0m, \u001b[38;5;34m4\u001b[0m)                   │           \u001b[38;5;34m3,076\u001b[0m │\n",
              "└──────────────────────────────────────┴─────────────────────────────┴─────────────────┘\n"
            ],
            "text/html": [
              "<pre style=\"white-space:pre;overflow-x:auto;line-height:normal;font-family:Menlo,'DejaVu Sans Mono',consolas,'Courier New',monospace\">┏━━━━━━━━━━━━━━━━━━━━━━━━━━━━━━━━━━━━━━┳━━━━━━━━━━━━━━━━━━━━━━━━━━━━━┳━━━━━━━━━━━━━━━━━┓\n",
              "┃<span style=\"font-weight: bold\"> Layer (type)                         </span>┃<span style=\"font-weight: bold\"> Output Shape                </span>┃<span style=\"font-weight: bold\">         Param # </span>┃\n",
              "┡━━━━━━━━━━━━━━━━━━━━━━━━━━━━━━━━━━━━━━╇━━━━━━━━━━━━━━━━━━━━━━━━━━━━━╇━━━━━━━━━━━━━━━━━┩\n",
              "│ hidden (<span style=\"color: #0087ff; text-decoration-color: #0087ff\">Dense</span>)                       │ (<span style=\"color: #00d7ff; text-decoration-color: #00d7ff\">None</span>, <span style=\"color: #00af00; text-decoration-color: #00af00\">768</span>)                 │         <span style=\"color: #00af00; text-decoration-color: #00af00\">590,592</span> │\n",
              "├──────────────────────────────────────┼─────────────────────────────┼─────────────────┤\n",
              "│ output_probs (<span style=\"color: #0087ff; text-decoration-color: #0087ff\">Dense</span>)                 │ (<span style=\"color: #00d7ff; text-decoration-color: #00d7ff\">None</span>, <span style=\"color: #00af00; text-decoration-color: #00af00\">4</span>)                   │           <span style=\"color: #00af00; text-decoration-color: #00af00\">3,076</span> │\n",
              "└──────────────────────────────────────┴─────────────────────────────┴─────────────────┘\n",
              "</pre>\n"
            ]
          },
          "metadata": {}
        },
        {
          "output_type": "display_data",
          "data": {
            "text/plain": [
              "\u001b[1m Total params: \u001b[0m\u001b[38;5;34m593,668\u001b[0m (2.26 MB)\n"
            ],
            "text/html": [
              "<pre style=\"white-space:pre;overflow-x:auto;line-height:normal;font-family:Menlo,'DejaVu Sans Mono',consolas,'Courier New',monospace\"><span style=\"font-weight: bold\"> Total params: </span><span style=\"color: #00af00; text-decoration-color: #00af00\">593,668</span> (2.26 MB)\n",
              "</pre>\n"
            ]
          },
          "metadata": {}
        },
        {
          "output_type": "display_data",
          "data": {
            "text/plain": [
              "\u001b[1m Trainable params: \u001b[0m\u001b[38;5;34m593,668\u001b[0m (2.26 MB)\n"
            ],
            "text/html": [
              "<pre style=\"white-space:pre;overflow-x:auto;line-height:normal;font-family:Menlo,'DejaVu Sans Mono',consolas,'Courier New',monospace\"><span style=\"font-weight: bold\"> Trainable params: </span><span style=\"color: #00af00; text-decoration-color: #00af00\">593,668</span> (2.26 MB)\n",
              "</pre>\n"
            ]
          },
          "metadata": {}
        },
        {
          "output_type": "display_data",
          "data": {
            "text/plain": [
              "\u001b[1m Non-trainable params: \u001b[0m\u001b[38;5;34m0\u001b[0m (0.00 B)\n"
            ],
            "text/html": [
              "<pre style=\"white-space:pre;overflow-x:auto;line-height:normal;font-family:Menlo,'DejaVu Sans Mono',consolas,'Courier New',monospace\"><span style=\"font-weight: bold\"> Non-trainable params: </span><span style=\"color: #00af00; text-decoration-color: #00af00\">0</span> (0.00 B)\n",
              "</pre>\n"
            ]
          },
          "metadata": {}
        }
      ],
      "execution_count": 16
    },
    {
      "cell_type": "markdown",
      "source": [
        "## Train the model\n",
        "\n",
        "Finally, you can train your model. This code uses early stopping to exit the training loop once the loss value stabilises, so the number of epoch loops executed may differ from the specified value."
      ],
      "metadata": {
        "id": "kbpTGGiMXDxl"
      }
    },
    {
      "cell_type": "code",
      "source": [
        "import numpy as np\n",
        "\n",
        "\n",
        "NUM_EPOCHS = 20\n",
        "BATCH_SIZE = 32\n",
        "\n",
        "# Split the x and y components of the train and validation subsets.\n",
        "y_train = df_train[\"Encoded Label\"]\n",
        "x_train = np.stack(df_train[\"Embeddings\"])\n",
        "y_val = df_test[\"Encoded Label\"]\n",
        "x_val = np.stack(df_test[\"Embeddings\"])\n",
        "\n",
        "# Specify that it's OK to stop early if accuracy stabilises.\n",
        "early_stop = keras.callbacks.EarlyStopping(monitor=\"accuracy\", patience=3)\n",
        "\n",
        "# Train the model for the desired number of epochs.\n",
        "history = classifier.fit(\n",
        "    x=x_train,\n",
        "    y=y_train,\n",
        "    validation_data=(x_val, y_val),\n",
        "    callbacks=[early_stop],\n",
        "    batch_size=BATCH_SIZE,\n",
        "    epochs=NUM_EPOCHS,\n",
        ")"
      ],
      "metadata": {
        "id": "bGgvMZGfJ1A4",
        "trusted": true,
        "execution": {
          "iopub.status.busy": "2025-03-31T10:07:22.958322Z",
          "iopub.execute_input": "2025-03-31T10:07:22.958673Z",
          "iopub.status.idle": "2025-03-31T10:07:25.705696Z",
          "shell.execute_reply.started": "2025-03-31T10:07:22.95864Z",
          "shell.execute_reply": "2025-03-31T10:07:25.704561Z"
        },
        "outputId": "c57ce014-b728-41c4-8aaf-f24d743ad173",
        "colab": {
          "base_uri": "https://localhost:8080/"
        }
      },
      "outputs": [
        {
          "output_type": "stream",
          "name": "stdout",
          "text": [
            "Epoch 1/20\n",
            "\u001b[1m13/13\u001b[0m \u001b[32m━━━━━━━━━━━━━━━━━━━━\u001b[0m\u001b[37m\u001b[0m \u001b[1m2s\u001b[0m 34ms/step - accuracy: 0.3659 - loss: 1.3545 - val_accuracy: 0.2800 - val_loss: 1.2845\n",
            "Epoch 2/20\n",
            "\u001b[1m13/13\u001b[0m \u001b[32m━━━━━━━━━━━━━━━━━━━━\u001b[0m\u001b[37m\u001b[0m \u001b[1m0s\u001b[0m 19ms/step - accuracy: 0.4916 - loss: 1.2003 - val_accuracy: 0.7100 - val_loss: 1.1184\n",
            "Epoch 3/20\n",
            "\u001b[1m13/13\u001b[0m \u001b[32m━━━━━━━━━━━━━━━━━━━━\u001b[0m\u001b[37m\u001b[0m \u001b[1m0s\u001b[0m 16ms/step - accuracy: 0.8485 - loss: 1.0173 - val_accuracy: 0.8200 - val_loss: 0.9698\n",
            "Epoch 4/20\n",
            "\u001b[1m13/13\u001b[0m \u001b[32m━━━━━━━━━━━━━━━━━━━━\u001b[0m\u001b[37m\u001b[0m \u001b[1m0s\u001b[0m 15ms/step - accuracy: 0.9445 - loss: 0.8159 - val_accuracy: 0.8600 - val_loss: 0.8074\n",
            "Epoch 5/20\n",
            "\u001b[1m13/13\u001b[0m \u001b[32m━━━━━━━━━━━━━━━━━━━━\u001b[0m\u001b[37m\u001b[0m \u001b[1m0s\u001b[0m 19ms/step - accuracy: 0.9473 - loss: 0.6319 - val_accuracy: 0.8600 - val_loss: 0.6902\n",
            "Epoch 6/20\n",
            "\u001b[1m13/13\u001b[0m \u001b[32m━━━━━━━━━━━━━━━━━━━━\u001b[0m\u001b[37m\u001b[0m \u001b[1m0s\u001b[0m 19ms/step - accuracy: 0.9758 - loss: 0.4815 - val_accuracy: 0.8600 - val_loss: 0.5752\n",
            "Epoch 7/20\n",
            "\u001b[1m13/13\u001b[0m \u001b[32m━━━━━━━━━━━━━━━━━━━━\u001b[0m\u001b[37m\u001b[0m \u001b[1m0s\u001b[0m 16ms/step - accuracy: 0.9612 - loss: 0.3829 - val_accuracy: 0.8700 - val_loss: 0.5198\n",
            "Epoch 8/20\n",
            "\u001b[1m13/13\u001b[0m \u001b[32m━━━━━━━━━━━━━━━━━━━━\u001b[0m\u001b[37m\u001b[0m \u001b[1m0s\u001b[0m 15ms/step - accuracy: 0.9688 - loss: 0.2916 - val_accuracy: 0.8700 - val_loss: 0.4448\n",
            "Epoch 9/20\n",
            "\u001b[1m13/13\u001b[0m \u001b[32m━━━━━━━━━━━━━━━━━━━━\u001b[0m\u001b[37m\u001b[0m \u001b[1m0s\u001b[0m 17ms/step - accuracy: 0.9672 - loss: 0.2547 - val_accuracy: 0.8800 - val_loss: 0.3966\n",
            "Epoch 10/20\n",
            "\u001b[1m13/13\u001b[0m \u001b[32m━━━━━━━━━━━━━━━━━━━━\u001b[0m\u001b[37m\u001b[0m \u001b[1m0s\u001b[0m 19ms/step - accuracy: 0.9843 - loss: 0.1877 - val_accuracy: 0.8700 - val_loss: 0.3781\n",
            "Epoch 11/20\n",
            "\u001b[1m13/13\u001b[0m \u001b[32m━━━━━━━━━━━━━━━━━━━━\u001b[0m\u001b[37m\u001b[0m \u001b[1m0s\u001b[0m 16ms/step - accuracy: 0.9943 - loss: 0.1790 - val_accuracy: 0.8900 - val_loss: 0.3555\n",
            "Epoch 12/20\n",
            "\u001b[1m13/13\u001b[0m \u001b[32m━━━━━━━━━━━━━━━━━━━━\u001b[0m\u001b[37m\u001b[0m \u001b[1m0s\u001b[0m 17ms/step - accuracy: 0.9960 - loss: 0.1390 - val_accuracy: 0.8600 - val_loss: 0.3416\n",
            "Epoch 13/20\n",
            "\u001b[1m13/13\u001b[0m \u001b[32m━━━━━━━━━━━━━━━━━━━━\u001b[0m\u001b[37m\u001b[0m \u001b[1m0s\u001b[0m 19ms/step - accuracy: 0.9944 - loss: 0.1196 - val_accuracy: 0.8900 - val_loss: 0.3474\n",
            "Epoch 14/20\n",
            "\u001b[1m13/13\u001b[0m \u001b[32m━━━━━━━━━━━━━━━━━━━━\u001b[0m\u001b[37m\u001b[0m \u001b[1m0s\u001b[0m 19ms/step - accuracy: 0.9797 - loss: 0.1165 - val_accuracy: 0.9100 - val_loss: 0.3053\n"
          ]
        }
      ],
      "execution_count": 17
    },
    {
      "cell_type": "markdown",
      "source": [
        "## Evaluate model performance\n",
        "\n",
        "Use Keras <a href=\"https://www.tensorflow.org/api_docs/python/tf/keras/Model#evaluate\"><code>Model.evaluate</code></a> to calculate the loss and accuracy on the test dataset."
      ],
      "metadata": {
        "id": "xGBaDHZUPdJO"
      }
    },
    {
      "cell_type": "code",
      "source": [
        "classifier.evaluate(x=x_val, y=y_val, return_dict=True)"
      ],
      "metadata": {
        "id": "d2kOeiqqQIB8",
        "trusted": true,
        "execution": {
          "iopub.status.busy": "2025-03-31T10:07:25.707479Z",
          "iopub.execute_input": "2025-03-31T10:07:25.707948Z",
          "iopub.status.idle": "2025-03-31T10:07:25.807361Z",
          "shell.execute_reply.started": "2025-03-31T10:07:25.707897Z",
          "shell.execute_reply": "2025-03-31T10:07:25.806145Z"
        },
        "outputId": "4c0cf7a8-8297-40f9-e5fd-75da0cd7d4fd",
        "colab": {
          "base_uri": "https://localhost:8080/"
        }
      },
      "outputs": [
        {
          "output_type": "stream",
          "name": "stdout",
          "text": [
            "\u001b[1m4/4\u001b[0m \u001b[32m━━━━━━━━━━━━━━━━━━━━\u001b[0m\u001b[37m\u001b[0m \u001b[1m0s\u001b[0m 11ms/step - accuracy: 0.9400 - loss: 0.2576\n"
          ]
        },
        {
          "output_type": "execute_result",
          "data": {
            "text/plain": [
              "{'accuracy': 0.9100000262260437, 'loss': 0.30534976720809937}"
            ]
          },
          "metadata": {},
          "execution_count": 18
        }
      ],
      "execution_count": 18
    },
    {
      "cell_type": "markdown",
      "source": [
        "To learn more about training models with Keras, including how to visualise the model training metrics, read [Training & evaluation with built-in methods](https://www.tensorflow.org/guide/keras/training_with_built_in_methods)."
      ],
      "metadata": {
        "id": "UyxMhiLYQXAN"
      }
    },
    {
      "cell_type": "markdown",
      "source": [
        "## Try a custom prediction\n",
        "\n",
        "Now that you have a trained model with good evaluation metrics, you can try to make a prediction with new, hand-written data. Use the provided example or try your own data to see how the model performs."
      ],
      "metadata": {
        "id": "XHyP-_torwsm"
      }
    },
    {
      "cell_type": "code",
      "source": [
        "def make_prediction(text: str) -> list[float]:\n",
        "    \"\"\"Infer categories from the provided text.\"\"\"\n",
        "    # Remember that the model takes embeddings as input, so calculate them first.\n",
        "    embedded = embed_fn(new_text)\n",
        "\n",
        "    # And recall that the input must be batched, so here they are wrapped as a\n",
        "    # list to provide a batch of 1.\n",
        "    inp = np.array([embedded])\n",
        "\n",
        "    # And un-batched here.\n",
        "    [result] = classifier.predict(inp)\n",
        "    return result"
      ],
      "metadata": {
        "id": "Lj4gR0Mdr2rb",
        "trusted": true,
        "execution": {
          "iopub.status.busy": "2025-03-31T10:07:25.808947Z",
          "iopub.execute_input": "2025-03-31T10:07:25.809797Z",
          "iopub.status.idle": "2025-03-31T10:07:25.816064Z",
          "shell.execute_reply.started": "2025-03-31T10:07:25.809747Z",
          "shell.execute_reply": "2025-03-31T10:07:25.814637Z"
        }
      },
      "outputs": [],
      "execution_count": 19
    },
    {
      "cell_type": "code",
      "source": [
        "# This example avoids any space-specific terminology to see if the model avoids\n",
        "# biases towards specific jargon.\n",
        "new_text = \"\"\"\n",
        "First-timer looking to get out of here.\n",
        "\n",
        "Hi, I'm writing about my interest in travelling to the outer limits!\n",
        "\n",
        "What kind of craft can I buy? What is easiest to access from this 3rd rock?\n",
        "\n",
        "Let me know how to do that please.\n",
        "\"\"\"\n",
        "\n",
        "result = make_prediction(new_text)\n",
        "\n",
        "for idx, category in enumerate(df_test[\"Class Name\"].cat.categories):\n",
        "    print(f\"{category}: {result[idx] * 100:0.2f}%\")"
      ],
      "metadata": {
        "id": "CKTHEMrRsbcu",
        "trusted": true,
        "execution": {
          "iopub.status.busy": "2025-03-31T10:07:25.817564Z",
          "iopub.execute_input": "2025-03-31T10:07:25.81793Z",
          "iopub.status.idle": "2025-03-31T10:07:26.194923Z",
          "shell.execute_reply.started": "2025-03-31T10:07:25.817896Z",
          "shell.execute_reply": "2025-03-31T10:07:26.193651Z"
        },
        "outputId": "3f7c85bc-db36-4a02-e05b-29104ddafe30",
        "colab": {
          "base_uri": "https://localhost:8080/"
        }
      },
      "outputs": [
        {
          "output_type": "stream",
          "name": "stdout",
          "text": [
            "\u001b[1m1/1\u001b[0m \u001b[32m━━━━━━━━━━━━━━━━━━━━\u001b[0m\u001b[37m\u001b[0m \u001b[1m0s\u001b[0m 85ms/step\n",
            "sci.crypt: 0.05%\n",
            "sci.electronics: 0.65%\n",
            "sci.med: 0.31%\n",
            "sci.space: 98.99%\n"
          ]
        }
      ],
      "execution_count": 20
    },
    {
      "cell_type": "markdown",
      "source": [
        "## Further reading\n",
        "\n",
        "To explore training custom models with Keras further, check out the [Keras guides](https://keras.io/guides/).\n",
        "\n",
        "*- [Mark McD](https://linktr.ee/markmcd)*"
      ],
      "metadata": {
        "id": "D6UtrnbAxkea"
      }
    }
  ]
}